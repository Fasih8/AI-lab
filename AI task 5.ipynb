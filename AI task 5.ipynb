{
 "cells": [
  {
   "cell_type": "code",
   "execution_count": 3,
   "id": "2545ae5f-7533-4f11-8bed-33582eb93cc8",
   "metadata": {},
   "outputs": [
    {
     "name": "stdout",
     "output_type": "stream",
     "text": [
      "DFS using stack:\n",
      "1\n",
      "2\n",
      "4\n",
      "5\n",
      "3\n"
     ]
    }
   ],
   "source": [
    "class Node:\n",
    "    def __init__(self, value):\n",
    "        self.value = value\n",
    "        self.left = None\n",
    "        self.right = None\n",
    "\n",
    "def dfs_with_stack(root):\n",
    "    if root is None:\n",
    "        return\n",
    "    \n",
    "    stack = [root]\n",
    "    \n",
    "    while stack:\n",
    "        node = stack.pop()\n",
    "        print(node.value) \n",
    "        if node.right:\n",
    "            stack.append(node.right)\n",
    "        if node.left:\n",
    "            stack.append(node.left)\n",
    "\n",
    "if __name__ == \"__main__\":\n",
    "    root = Node(1)\n",
    "    root.left = Node(2)\n",
    "    root.right = Node(3)\n",
    "    root.left.left = Node(4)\n",
    "    root.left.right = Node(5)\n",
    "\n",
    "    print(\"DFS using stack:\")\n",
    "    dfs_with_stack(root)"
   ]
  },
  {
   "cell_type": "markdown",
   "id": "c1abed54",
   "metadata": {},
   "source": [
    "Task 2: Research about \"Inorder, Preorder, Postorder\" and implement in DFS\n",
    "Inorder, Preorder, and Postorder are three common ways to traverse a binary tree:\n",
    "\n",
    "Preorder: Visit the root, then the left subtree, and finally the right subtree.\n",
    "Inorder: Visit the left subtree, then the root, and finally the right subtree.\n",
    "Postorder: Visit the left subtree, then the right subtree, and finally the root."
   ]
  },
  {
   "cell_type": "code",
   "execution_count": null,
   "id": "3f5eac63-bbdc-426b-8b86-1c6b3d54bfa5",
   "metadata": {},
   "outputs": [],
   "source": [
    "\n",
    "    "
   ]
  },
  {
   "cell_type": "code",
   "execution_count": null,
   "id": "390afa6c-3e5a-458c-853b-90ddbd7c8660",
   "metadata": {},
   "outputs": [],
   "source": []
  },
  {
   "cell_type": "code",
   "execution_count": null,
   "id": "8417f077-c082-4933-a90d-a9b581520bce",
   "metadata": {},
   "outputs": [],
   "source": []
  }
 ],
 "metadata": {
  "kernelspec": {
   "display_name": "Python 3",
   "language": "python",
   "name": "python3"
  },
  "language_info": {
   "codemirror_mode": {
    "name": "ipython",
    "version": 3
   },
   "file_extension": ".py",
   "mimetype": "text/x-python",
   "name": "python",
   "nbconvert_exporter": "python",
   "pygments_lexer": "ipython3",
   "version": "3.12.1"
  }
 },
 "nbformat": 4,
 "nbformat_minor": 5
}
