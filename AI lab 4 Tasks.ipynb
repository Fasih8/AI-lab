{
 "cells": [
  {
   "cell_type": "code",
   "execution_count": 4,
   "id": "69292084-5325-4dc6-b1b9-8becf4e721fc",
   "metadata": {},
   "outputs": [],
   "source": [
    "#LUHN Algorithm\n",
    "\n",
    "value=['5','8','9','3','8','0','4','1','1','5','4','5','7','2','8','9']\n",
    "f_step= value.pop()\n",
    "print(f_step)\n",
    "print('Updated',value)\n",
    "\n",
    "value.reverse()\n",
    "s_step=value\n",
    "print(\"Reversed\",value)\n",
    "\n",
    "for i in range (len(value)):\n",
    " if i % 2 == 0:\n",
    "   print(i,s_step[i]*2)\n",
    " print(s_step[i])  \n",
    "\n",
    "for i in range (len(value)):\n",
    "  if value[i]>9:\n",
    "    print(value[i] - 9)\n",
    "  print(value[i])  \n"
   ]
  },
  {
   "cell_type": "code",
   "execution_count": 3,
   "id": "078625c1-29a5-4f97-a52f-7721dad67f91",
   "metadata": {},
   "outputs": [],
   "source": [
    "#Task 2\n",
    "def remove_punctuation(string):\n",
    "    punctuation_chars = \"!@#$%^&*()_+-=[]{}|;':\\\",./<>?\"\n",
    "    result = \"\"\n",
    "    for char in string:\n",
    "        if char not in punctuation_chars:\n",
    "            result += char\n",
    "    return result     "
   ]
  },
  {
   "cell_type": "code",
   "execution_count": 4,
   "id": "8d20dc91-392b-4d77-a8dc-f6322df1b032",
   "metadata": {},
   "outputs": [],
   "source": [
    "###TASK 3\n",
    "def sort_words(text):\n",
    "\n",
    "    words = text.split()\n",
    "    sorted_words = []\n",
    "    while words:\n",
    "        minimum_word = words[0]\n",
    "        minimum_index = 0\n",
    "        for i in range(1, len(words)):\n",
    "            if words[i] < minimum_word:\n",
    "                minimum_word = words[i]\n",
    "                minimum_index = i\n",
    "        sorted_words.append(minimum_word)\n",
    "        words.pop(minimum_index)\n",
    "    return sorted_words"
   ]
  },
  {
   "cell_type": "code",
   "execution_count": null,
   "id": "68442360-567b-455c-9ed0-25c52353eaae",
   "metadata": {},
   "outputs": [],
   "source": []
  }
 ],
 "metadata": {
  "kernelspec": {
   "display_name": "Python 3 (ipykernel)",
   "language": "python",
   "name": "python3"
  },
  "language_info": {
   "codemirror_mode": {
    "name": "ipython",
    "version": 3
   },
   "file_extension": ".py",
   "mimetype": "text/x-python",
   "name": "python",
   "nbconvert_exporter": "python",
   "pygments_lexer": "ipython3",
   "version": "3.12.1"
  }
 },
 "nbformat": 4,
 "nbformat_minor": 5
}
